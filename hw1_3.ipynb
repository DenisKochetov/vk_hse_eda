{
 "cells": [
  {
   "cell_type": "markdown",
   "metadata": {},
   "source": [
    "# Домашнее задание 1"
   ]
  },
  {
   "cell_type": "markdown",
   "metadata": {},
   "source": [
    "__Оценки-баллы__: \n",
    "- 1: 1-2\n",
    "- 2: 3-6\n",
    "- 3: 7-9\n",
    "- 4: 10-13\n",
    "- 5: 14-16\n",
    "- 6: 17-19\n",
    "- 7: 20-22\n",
    "- 8: 23-26\n",
    "- 9: 27-29\n",
    "- 10: 30-32\n",
    "\n",
    "__Литература__: \n",
    "\n",
    "- 1) An Introduction to Statistical Learning - облегченная версия следующей книги с небольшим количеством матана, примеры реализованы на R. Электронная версия книги - бесплатная: http://faculty.marshall.usc.edu/gareth-james/\n",
    "\n",
    "По этой книге также есть онлайн-курс от Стенфорда\n",
    "\n",
    "- 2)The Elements of Statistical Learning - полный классический учебник по статистическому обучению, много математики. Книга, кстати, тоже бесплатна для скачивания: https://web.stanford.edu/~hastie/ElemStatLearn//\n",
    "\n",
    "\n",
    "__DL (срок сдачи ДЗ)__: 15.10.2021 23:59. После этого срока работы НЕ будут приниматься\n",
    "\n",
    "__Формат сдачи - в личный аккаунт telegram: @zhuikov_vv__: hw1_3_ivanov_i_i.ipynb"
   ]
  },
  {
   "cell_type": "markdown",
   "metadata": {},
   "source": [
    "### Описательные статистики"
   ]
  },
  {
   "cell_type": "code",
   "execution_count": 213,
   "metadata": {},
   "outputs": [],
   "source": [
    "import pandas as pd\n",
    "%matplotlib inline "
   ]
  },
  {
   "cell_type": "markdown",
   "metadata": {},
   "source": [
    "Подгрузим данные и посмотрим на первые пять строчек из таблицы."
   ]
  },
  {
   "cell_type": "code",
   "execution_count": 214,
   "metadata": {},
   "outputs": [
    {
     "data": {
      "text/plain": "     city country  first_name home_town  in_hse_memes_group  is_bmm  \\\n0  Москва  Россия  Александра    Москва                True    True   \n1  Рязань  Россия   Анастасия    Рязань                True    True   \n2  Москва  Россия   Александр      Омск               False    True   \n3     NaN     NaN        Анна       NaN               False    True   \n4     NaN  Россия     Алексей       NaN                True    True   \n\n   is_closed  last_name  likes_memes        uid  ...  photo_month_mean  \\\n0      False   Абашкова         60.0  182152789  ...          1.333333   \n1      False  Чуфистова          0.0  148020433  ...          2.375000   \n2      False  Головачев          0.0  138413935  ...          1.400000   \n3      False   Лобанова          0.0  366261055  ...          4.166667   \n4      False   Пузырный         21.0  111252392  ...          3.181818   \n\n   photo_repost_cnt  photo_repost_max  photo_repost_mean  photo_repost_median  \\\n0               0.0               0.0           0.000000                  0.0   \n1               2.0               1.0           0.105263                  0.0   \n2               0.0               0.0           0.000000                  0.0   \n3               0.0               0.0           0.000000                  0.0   \n4               0.0               0.0           0.000000                  0.0   \n\n   photo_text_len_cnt  photo_ava_change_cnt  photo_text_url_len_cnt  \\\n0                 0.0                   0.0                     0.0   \n1                 0.0                   0.0                     0.0   \n2                 0.0                   0.0                     0.0   \n3                 0.0                   0.0                     0.0   \n4                 0.0                   0.0                     0.0   \n\n   friends_from_course_cnt  friends_mail_from_course_pct  \n0                     42.0                      0.428571  \n1                     32.0                      0.281250  \n2                     32.0                      0.406250  \n3                     45.0                      0.333333  \n4                     41.0                      0.341463  \n\n[5 rows x 98 columns]",
      "text/html": "<div>\n<style scoped>\n    .dataframe tbody tr th:only-of-type {\n        vertical-align: middle;\n    }\n\n    .dataframe tbody tr th {\n        vertical-align: top;\n    }\n\n    .dataframe thead th {\n        text-align: right;\n    }\n</style>\n<table border=\"1\" class=\"dataframe\">\n  <thead>\n    <tr style=\"text-align: right;\">\n      <th></th>\n      <th>city</th>\n      <th>country</th>\n      <th>first_name</th>\n      <th>home_town</th>\n      <th>in_hse_memes_group</th>\n      <th>is_bmm</th>\n      <th>is_closed</th>\n      <th>last_name</th>\n      <th>likes_memes</th>\n      <th>uid</th>\n      <th>...</th>\n      <th>photo_month_mean</th>\n      <th>photo_repost_cnt</th>\n      <th>photo_repost_max</th>\n      <th>photo_repost_mean</th>\n      <th>photo_repost_median</th>\n      <th>photo_text_len_cnt</th>\n      <th>photo_ava_change_cnt</th>\n      <th>photo_text_url_len_cnt</th>\n      <th>friends_from_course_cnt</th>\n      <th>friends_mail_from_course_pct</th>\n    </tr>\n  </thead>\n  <tbody>\n    <tr>\n      <th>0</th>\n      <td>Москва</td>\n      <td>Россия</td>\n      <td>Александра</td>\n      <td>Москва</td>\n      <td>True</td>\n      <td>True</td>\n      <td>False</td>\n      <td>Абашкова</td>\n      <td>60.0</td>\n      <td>182152789</td>\n      <td>...</td>\n      <td>1.333333</td>\n      <td>0.0</td>\n      <td>0.0</td>\n      <td>0.000000</td>\n      <td>0.0</td>\n      <td>0.0</td>\n      <td>0.0</td>\n      <td>0.0</td>\n      <td>42.0</td>\n      <td>0.428571</td>\n    </tr>\n    <tr>\n      <th>1</th>\n      <td>Рязань</td>\n      <td>Россия</td>\n      <td>Анастасия</td>\n      <td>Рязань</td>\n      <td>True</td>\n      <td>True</td>\n      <td>False</td>\n      <td>Чуфистова</td>\n      <td>0.0</td>\n      <td>148020433</td>\n      <td>...</td>\n      <td>2.375000</td>\n      <td>2.0</td>\n      <td>1.0</td>\n      <td>0.105263</td>\n      <td>0.0</td>\n      <td>0.0</td>\n      <td>0.0</td>\n      <td>0.0</td>\n      <td>32.0</td>\n      <td>0.281250</td>\n    </tr>\n    <tr>\n      <th>2</th>\n      <td>Москва</td>\n      <td>Россия</td>\n      <td>Александр</td>\n      <td>Омск</td>\n      <td>False</td>\n      <td>True</td>\n      <td>False</td>\n      <td>Головачев</td>\n      <td>0.0</td>\n      <td>138413935</td>\n      <td>...</td>\n      <td>1.400000</td>\n      <td>0.0</td>\n      <td>0.0</td>\n      <td>0.000000</td>\n      <td>0.0</td>\n      <td>0.0</td>\n      <td>0.0</td>\n      <td>0.0</td>\n      <td>32.0</td>\n      <td>0.406250</td>\n    </tr>\n    <tr>\n      <th>3</th>\n      <td>NaN</td>\n      <td>NaN</td>\n      <td>Анна</td>\n      <td>NaN</td>\n      <td>False</td>\n      <td>True</td>\n      <td>False</td>\n      <td>Лобанова</td>\n      <td>0.0</td>\n      <td>366261055</td>\n      <td>...</td>\n      <td>4.166667</td>\n      <td>0.0</td>\n      <td>0.0</td>\n      <td>0.000000</td>\n      <td>0.0</td>\n      <td>0.0</td>\n      <td>0.0</td>\n      <td>0.0</td>\n      <td>45.0</td>\n      <td>0.333333</td>\n    </tr>\n    <tr>\n      <th>4</th>\n      <td>NaN</td>\n      <td>Россия</td>\n      <td>Алексей</td>\n      <td>NaN</td>\n      <td>True</td>\n      <td>True</td>\n      <td>False</td>\n      <td>Пузырный</td>\n      <td>21.0</td>\n      <td>111252392</td>\n      <td>...</td>\n      <td>3.181818</td>\n      <td>0.0</td>\n      <td>0.0</td>\n      <td>0.000000</td>\n      <td>0.0</td>\n      <td>0.0</td>\n      <td>0.0</td>\n      <td>0.0</td>\n      <td>41.0</td>\n      <td>0.341463</td>\n    </tr>\n  </tbody>\n</table>\n<p>5 rows × 98 columns</p>\n</div>"
     },
     "execution_count": 214,
     "metadata": {},
     "output_type": "execute_result"
    }
   ],
   "source": [
    "df = pd.read_csv('./vk_main.csv', sep='\\t')\n",
    "df.head()"
   ]
  },
  {
   "cell_type": "code",
   "execution_count": 215,
   "outputs": [
    {
     "name": "stdout",
     "output_type": "stream",
     "text": [
      "<class 'pandas.core.frame.DataFrame'>\n",
      "RangeIndex: 425 entries, 0 to 424\n",
      "Data columns (total 98 columns):\n",
      " #   Column                           Non-Null Count  Dtype  \n",
      "---  ------                           --------------  -----  \n",
      " 0   city                             328 non-null    object \n",
      " 1   country                          364 non-null    object \n",
      " 2   first_name                       425 non-null    object \n",
      " 3   home_town                        112 non-null    object \n",
      " 4   in_hse_memes_group               425 non-null    bool   \n",
      " 5   is_bmm                           425 non-null    bool   \n",
      " 6   is_closed                        425 non-null    bool   \n",
      " 7   last_name                        425 non-null    object \n",
      " 8   likes_memes                      384 non-null    float64\n",
      " 9   uid                              425 non-null    int64  \n",
      " 10  male_dummy                       425 non-null    int64  \n",
      " 11  facebook_dummy                   425 non-null    int64  \n",
      " 12  instagram_dummy                  425 non-null    int64  \n",
      " 13  skype_dummy                      425 non-null    int64  \n",
      " 14  twitter_dummy                    425 non-null    int64  \n",
      " 15  home_phone_dummy                 425 non-null    int64  \n",
      " 16  mobile_phone_dummy               425 non-null    int64  \n",
      " 17  site_dummy                       425 non-null    int64  \n",
      " 18  can_post_dummy                   425 non-null    int64  \n",
      " 19  can_see_all_posts_dummy          425 non-null    int64  \n",
      " 20  can_see_audio_dummy              425 non-null    int64  \n",
      " 21  can_write_private_message_dummy  425 non-null    int64  \n",
      " 22  has_mobile_dummy                 425 non-null    int64  \n",
      " 23  has_ava_dummy                    425 non-null    int64  \n",
      " 24  wall_comments_dummy              425 non-null    int64  \n",
      " 25  english_dummy                    425 non-null    int64  \n",
      " 26  folowers_cnt                     384 non-null    float64\n",
      " 27  albums_cnt                       425 non-null    float64\n",
      " 28  audio_cnt                        425 non-null    float64\n",
      " 29  followers_cnt                    384 non-null    float64\n",
      " 30  friends_cnt                      425 non-null    float64\n",
      " 31  gifts_cnt                        167 non-null    float64\n",
      " 32  groups_cnt                       68 non-null     float64\n",
      " 33  photos_cnt                       384 non-null    float64\n",
      " 34  subscriptions_cnt                425 non-null    float64\n",
      " 35  user_photos_cnt                  101 non-null    float64\n",
      " 36  videos_cnt                       425 non-null    float64\n",
      " 37  pages_cnt                        425 non-null    float64\n",
      " 38  lang_cnt                         131 non-null    float64\n",
      " 39  change_city_school_cnt           74 non-null     float64\n",
      " 40  schools_cnt                      46 non-null     object \n",
      " 41  relation_cat                     193 non-null    object \n",
      " 42  alco_love_cat                    163 non-null    float64\n",
      " 43  smoke_love_cat                   163 non-null    float64\n",
      " 44  life_main_cat                    162 non-null    object \n",
      " 45  people_main_cat                  163 non-null    object \n",
      " 46  political_cat                    12 non-null     object \n",
      " 47  private_prof_dummy               425 non-null    int64  \n",
      " 48  wall_can_comment_dummy           343 non-null    float64\n",
      " 49  wall_comment_cnt                 343 non-null    float64\n",
      " 50  wall_comment_max                 343 non-null    float64\n",
      " 51  wall_comment_mean                343 non-null    float64\n",
      " 52  wall_comment_median              343 non-null    float64\n",
      " 53  wall_emoji_mean                  343 non-null    float64\n",
      " 54  wall_emoji_median                343 non-null    float64\n",
      " 55  wall_emoji_cnt                   343 non-null    float64\n",
      " 56  wall_emoji_max                   343 non-null    float64\n",
      " 57  wall_like_cnt                    343 non-null    float64\n",
      " 58  wall_like_max                    343 non-null    float64\n",
      " 59  wall_like_mean                   343 non-null    float64\n",
      " 60  wall_like_median                 343 non-null    float64\n",
      " 61  wall_month_mean                  343 non-null    float64\n",
      " 62  wall_post_android_cnt            343 non-null    float64\n",
      " 63  wall_post_cnt                    343 non-null    float64\n",
      " 64  wall_post_instagram_cnt          343 non-null    float64\n",
      " 65  wall_post_ipad_cnt               343 non-null    float64\n",
      " 66  wall_post_iphone_cnt             343 non-null    float64\n",
      " 67  wall_post_original_cnt           343 non-null    float64\n",
      " 68  wall_post_other_cnt              343 non-null    float64\n",
      " 69  wall_post_reply_cnt              343 non-null    float64\n",
      " 70  wall_post_wphone_cnt             343 non-null    float64\n",
      " 71  wall_repost_cnt                  343 non-null    float64\n",
      " 72  wall_repost_group_cnt            343 non-null    float64\n",
      " 73  wall_repost_max                  343 non-null    float64\n",
      " 74  wall_repost_mean                 343 non-null    float64\n",
      " 75  wall_repost_median               343 non-null    float64\n",
      " 76  wall_repost_user_cnt             343 non-null    float64\n",
      " 77  wall_text_len_cnt                343 non-null    float64\n",
      " 78  wall_text_len_max                343 non-null    float64\n",
      " 79  wall_text_len_mean               343 non-null    float64\n",
      " 80  wall_text_len_median             343 non-null    float64\n",
      " 81  wall_year_mean                   343 non-null    float64\n",
      " 82  wall_emoji_trace                 205 non-null    object \n",
      " 83  wall_text                        311 non-null    object \n",
      " 84  photo_like_cnt                   376 non-null    float64\n",
      " 85  photo_like_max                   376 non-null    float64\n",
      " 86  photo_like_mean                  376 non-null    float64\n",
      " 87  photo_like_median                376 non-null    float64\n",
      " 88  photo_month_mean                 376 non-null    float64\n",
      " 89  photo_repost_cnt                 376 non-null    float64\n",
      " 90  photo_repost_max                 376 non-null    float64\n",
      " 91  photo_repost_mean                376 non-null    float64\n",
      " 92  photo_repost_median              376 non-null    float64\n",
      " 93  photo_text_len_cnt               376 non-null    float64\n",
      " 94  photo_ava_change_cnt             376 non-null    float64\n",
      " 95  photo_text_url_len_cnt           376 non-null    float64\n",
      " 96  friends_from_course_cnt          384 non-null    float64\n",
      " 97  friends_mail_from_course_pct     384 non-null    float64\n",
      "dtypes: bool(3), float64(65), int64(18), object(12)\n",
      "memory usage: 316.8+ KB\n"
     ]
    }
   ],
   "source": [
    "df.info()"
   ],
   "metadata": {
    "collapsed": false,
    "pycharm": {
     "name": "#%%\n"
    }
   }
  },
  {
   "cell_type": "markdown",
   "metadata": {},
   "source": [
    "#### Задание 1 [2]\n",
    "\n",
    "В переменной `wall_text` лежат тексты со стен всех пользователей.\n",
    "\n",
    "* Постройте распределение длин для всех стен. \n",
    "* Сколько людей написали на своей стенке хотя бы раз название своего вуза?\n"
   ]
  },
  {
   "cell_type": "code",
   "execution_count": 216,
   "metadata": {},
   "outputs": [
    {
     "data": {
      "text/plain": "0         Давай поговорим о личном   Буду вашим кот...\n1        Лучший фотограф😻😻        ой,  может даже у...\n2    🚀 [id18115779|Баха], спасибо за атмосферу 🌌 \\n...\n3    Не проходите мимо! Приходите к нам! Ждём всех!...\n4    Нам пора признать, что зимний сезон следует сд...\nName: wall_text, dtype: object"
     },
     "execution_count": 216,
     "metadata": {},
     "output_type": "execute_result"
    }
   ],
   "source": [
    "df.wall_text.head()"
   ]
  },
  {
   "cell_type": "code",
   "execution_count": 217,
   "outputs": [],
   "source": [
    "hse_names = ['вшэ','hse', 'высшая школа экономики', 'вышечка', 'вышка', 'самый либеральный вуз']\n",
    "pattern = '|'.join(hse_names)\n",
    "# df['wall_text_hse'] = df['wall_text'].apply(lambda x: any([word in x for word in hse_names]))"
   ],
   "metadata": {
    "collapsed": false,
    "pycharm": {
     "name": "#%%\n"
    }
   }
  },
  {
   "cell_type": "code",
   "execution_count": 218,
   "outputs": [],
   "source": [
    "import numpy as np"
   ],
   "metadata": {
    "collapsed": false,
    "pycharm": {
     "name": "#%%\n"
    }
   }
  },
  {
   "cell_type": "code",
   "execution_count": 219,
   "outputs": [],
   "source": [
    "df['wall_text'] = df['wall_text'].str.lower()"
   ],
   "metadata": {
    "collapsed": false,
    "pycharm": {
     "name": "#%%\n"
    }
   }
  },
  {
   "cell_type": "code",
   "execution_count": 220,
   "outputs": [],
   "source": [
    "df['wall_text_hse'] = np.where(df['wall_text'].str.contains(pattern) == True, 1, 0)"
   ],
   "metadata": {
    "collapsed": false,
    "pycharm": {
     "name": "#%%\n"
    }
   }
  },
  {
   "cell_type": "code",
   "execution_count": 221,
   "outputs": [
    {
     "data": {
      "text/plain": "62      интенсив по подготовке к егэ по обществознани...\n68     проваленные дэдлайны… истрёпанные нервы… низка...\n94         mood:  (( fuck12  #свободуегоружукову #fre...\n100    inst:kamiism   when i saw u, i felt something ...\n119           i had a purpose, to bring laughter and ...\n183    мое лицо, когда @_l3uxpb_ сказал, что в армии ...\n185           артем с днем рождения!! успехов, крутых...\n226     кодзима    ля студенто де вышка\\n#hse     pre...\n229         mood of the day    омг! ☺🙃   такие смешны...\n296      hse student 🎉   спасибо за то, что вы были, ...\nName: wall_text, dtype: object"
     },
     "execution_count": 221,
     "metadata": {},
     "output_type": "execute_result"
    }
   ],
   "source": [
    "df['wall_text'][df['wall_text_hse'] == 1]"
   ],
   "metadata": {
    "collapsed": false,
    "pycharm": {
     "name": "#%%\n"
    }
   }
  },
  {
   "cell_type": "code",
   "execution_count": 222,
   "outputs": [
    {
     "data": {
      "text/plain": "10"
     },
     "execution_count": 222,
     "metadata": {},
     "output_type": "execute_result"
    }
   ],
   "source": [
    "len(df['wall_text'][df['wall_text_hse'] == 1])"
   ],
   "metadata": {
    "collapsed": false,
    "pycharm": {
     "name": "#%%\n"
    }
   }
  },
  {
   "cell_type": "code",
   "execution_count": 223,
   "outputs": [
    {
     "data": {
      "text/plain": "<AxesSubplot:>"
     },
     "execution_count": 223,
     "metadata": {},
     "output_type": "execute_result"
    },
    {
     "data": {
      "text/plain": "<Figure size 1080x864 with 1 Axes>",
      "image/png": "[encoded data removed]"
     },
     "metadata": {
      "needs_background": "light"
     },
     "output_type": "display_data"
    }
   ],
   "source": [
    "df['wall_text_len_cnt'].hist(figsize=(15,12))"
   ],
   "metadata": {
    "collapsed": false,
    "pycharm": {
     "name": "#%%\n"
    }
   }
  },
  {
   "cell_type": "code",
   "execution_count": 224,
   "outputs": [
    {
     "data": {
      "text/plain": "0         188.0\n1      103157.0\n2          83.0\n3        5593.0\n4        2681.0\n         ...   \n420         0.0\n421        23.0\n422     33098.0\n423       705.0\n424       929.0\nName: wall_text_len_cnt, Length: 425, dtype: float64"
     },
     "execution_count": 224,
     "metadata": {},
     "output_type": "execute_result"
    }
   ],
   "source": [
    "df.wall_text_len_cnt"
   ],
   "metadata": {
    "collapsed": false,
    "pycharm": {
     "name": "#%%\n"
    }
   }
  },
  {
   "cell_type": "markdown",
   "metadata": {},
   "source": [
    "#### Задание 2 [1]\n",
    "\n",
    "Вывести имена самых больших любителей мемов (топ 1\\% значений по колонке `likes_memes`. Итоговую табличку отсортировать по числу оставленных в группе лайков."
   ]
  },
  {
   "cell_type": "code",
   "execution_count": 225,
   "outputs": [
    {
     "data": {
      "text/plain": "    first_name  likes_memes\n134     Полина       1081.0\n363     Николь        685.0\n205  Александр        440.0\n189      Данил        398.0",
      "text/html": "<div>\n<style scoped>\n    .dataframe tbody tr th:only-of-type {\n        vertical-align: middle;\n    }\n\n    .dataframe tbody tr th {\n        vertical-align: top;\n    }\n\n    .dataframe thead th {\n        text-align: right;\n    }\n</style>\n<table border=\"1\" class=\"dataframe\">\n  <thead>\n    <tr style=\"text-align: right;\">\n      <th></th>\n      <th>first_name</th>\n      <th>likes_memes</th>\n    </tr>\n  </thead>\n  <tbody>\n    <tr>\n      <th>134</th>\n      <td>Полина</td>\n      <td>1081.0</td>\n    </tr>\n    <tr>\n      <th>363</th>\n      <td>Николь</td>\n      <td>685.0</td>\n    </tr>\n    <tr>\n      <th>205</th>\n      <td>Александр</td>\n      <td>440.0</td>\n    </tr>\n    <tr>\n      <th>189</th>\n      <td>Данил</td>\n      <td>398.0</td>\n    </tr>\n  </tbody>\n</table>\n</div>"
     },
     "execution_count": 225,
     "metadata": {},
     "output_type": "execute_result"
    }
   ],
   "source": [
    "one_perc = int(len(df) * 0.01)\n",
    "df.sort_values(by = [\"likes_memes\"], ascending=False)[0:one_perc][['first_name', 'likes_memes']]"
   ],
   "metadata": {
    "collapsed": false,
    "pycharm": {
     "name": "#%%\n"
    }
   }
  },
  {
   "cell_type": "markdown",
   "metadata": {},
   "source": [
    "#### Задание 3 [1]\n",
    "\n",
    "Построить гистограммы для параметров `wall_emoji_cnt` (число эмодзи на стене у человека) и `wall_comment_cnt` (число коментов на стене у человека). Где больше выбросов?"
   ]
  },
  {
   "cell_type": "code",
   "execution_count": 226,
   "metadata": {},
   "outputs": [
    {
     "data": {
      "text/plain": "array([[<AxesSubplot:title={'center':'wall_emoji_cnt'}>,\n        <AxesSubplot:title={'center':'wall_comment_cnt'}>]], dtype=object)"
     },
     "execution_count": 226,
     "metadata": {},
     "output_type": "execute_result"
    },
    {
     "data": {
      "text/plain": "<Figure size 1080x864 with 2 Axes>",
      "image/png": "[encoded data removed]"
     },
     "metadata": {
      "needs_background": "light"
     },
     "output_type": "display_data"
    }
   ],
   "source": [
    "df[['wall_emoji_cnt', 'wall_comment_cnt']].hist(figsize=(15,12))"
   ]
  },
  {
   "cell_type": "code",
   "execution_count": 227,
   "outputs": [],
   "source": [
    "import seaborn as sns"
   ],
   "metadata": {
    "collapsed": false,
    "pycharm": {
     "name": "#%%\n"
    }
   }
  },
  {
   "cell_type": "code",
   "execution_count": 228,
   "outputs": [
    {
     "name": "stderr",
     "output_type": "stream",
     "text": [
      "C:\\Python\\lib\\site-packages\\seaborn\\_decorators.py:36: FutureWarning: Pass the following variable as a keyword arg: x. From version 0.12, the only valid positional argument will be `data`, and passing other arguments without an explicit keyword will result in an error or misinterpretation.\n",
      "  warnings.warn(\n"
     ]
    },
    {
     "data": {
      "text/plain": "<AxesSubplot:xlabel='wall_emoji_cnt'>"
     },
     "execution_count": 228,
     "metadata": {},
     "output_type": "execute_result"
    },
    {
     "data": {
      "text/plain": "<Figure size 432x288 with 1 Axes>",
      "image/png": "[encoded data removed]"
     },
     "metadata": {
      "needs_background": "light"
     },
     "output_type": "display_data"
    }
   ],
   "source": [
    "sns.boxplot(df['wall_emoji_cnt'])"
   ],
   "metadata": {
    "collapsed": false,
    "pycharm": {
     "name": "#%%\n"
    }
   }
  },
  {
   "cell_type": "code",
   "execution_count": 229,
   "outputs": [
    {
     "name": "stderr",
     "output_type": "stream",
     "text": [
      "C:\\Python\\lib\\site-packages\\seaborn\\_decorators.py:36: FutureWarning: Pass the following variable as a keyword arg: x. From version 0.12, the only valid positional argument will be `data`, and passing other arguments without an explicit keyword will result in an error or misinterpretation.\n",
      "  warnings.warn(\n"
     ]
    },
    {
     "data": {
      "text/plain": "<AxesSubplot:xlabel='wall_comment_cnt'>"
     },
     "execution_count": 229,
     "metadata": {},
     "output_type": "execute_result"
    },
    {
     "data": {
      "text/plain": "<Figure size 432x288 with 1 Axes>",
      "image/png": "[encoded data removed]"
     },
     "metadata": {
      "needs_background": "light"
     },
     "output_type": "display_data"
    }
   ],
   "source": [
    "sns.boxplot(df['wall_comment_cnt'])"
   ],
   "metadata": {
    "collapsed": false,
    "pycharm": {
     "name": "#%%\n"
    }
   }
  },
  {
   "cell_type": "code",
   "execution_count": 230,
   "outputs": [
    {
     "data": {
      "text/plain": "<AxesSubplot:>"
     },
     "execution_count": 230,
     "metadata": {},
     "output_type": "execute_result"
    },
    {
     "data": {
      "text/plain": "<Figure size 432x288 with 1 Axes>",
      "image/png": "[encoded data removed]"
     },
     "metadata": {
      "needs_background": "light"
     },
     "output_type": "display_data"
    }
   ],
   "source": [
    "df[['wall_emoji_cnt', 'wall_comment_cnt']].boxplot()"
   ],
   "metadata": {
    "collapsed": false,
    "pycharm": {
     "name": "#%%\n"
    }
   }
  },
  {
   "cell_type": "markdown",
   "metadata": {},
   "source": [
    "Сравните для обоих показателей средние с медианами. Какие выводы о хвостах распределений и выбросах можно сделать из этого сравнения?"
   ]
  },
  {
   "cell_type": "code",
   "execution_count": 231,
   "outputs": [
    {
     "data": {
      "text/plain": "62.90962099125365"
     },
     "execution_count": 231,
     "metadata": {},
     "output_type": "execute_result"
    }
   ],
   "source": [
    "df['wall_emoji_cnt'].mean()"
   ],
   "metadata": {
    "collapsed": false,
    "pycharm": {
     "name": "#%%\n"
    }
   }
  },
  {
   "cell_type": "code",
   "execution_count": 232,
   "outputs": [
    {
     "data": {
      "text/plain": "2.0"
     },
     "execution_count": 232,
     "metadata": {},
     "output_type": "execute_result"
    }
   ],
   "source": [
    "df['wall_emoji_cnt'].median()"
   ],
   "metadata": {
    "collapsed": false,
    "pycharm": {
     "name": "#%%\n"
    }
   }
  },
  {
   "cell_type": "code",
   "execution_count": 233,
   "outputs": [
    {
     "data": {
      "text/plain": "29.632653061224488"
     },
     "execution_count": 233,
     "metadata": {},
     "output_type": "execute_result"
    }
   ],
   "source": [
    "df['wall_comment_cnt'].mean()"
   ],
   "metadata": {
    "collapsed": false,
    "pycharm": {
     "name": "#%%\n"
    }
   }
  },
  {
   "cell_type": "code",
   "execution_count": 234,
   "outputs": [
    {
     "data": {
      "text/plain": "0.0"
     },
     "execution_count": 234,
     "metadata": {},
     "output_type": "execute_result"
    }
   ],
   "source": [
    "df['wall_comment_cnt'].median()"
   ],
   "metadata": {
    "collapsed": false,
    "pycharm": {
     "name": "#%%\n"
    }
   }
  },
  {
   "cell_type": "markdown",
   "source": [
    "Значения смещены к нулю, хвосты положительные"
   ],
   "metadata": {
    "collapsed": false,
    "pycharm": {
     "name": "#%% md\n"
    }
   }
  },
  {
   "cell_type": "markdown",
   "metadata": {},
   "source": [
    "#### Задание 4 [1]\n",
    "\n",
    "Посчитайте соотношение полов в направлениях по маркетингу и менеджменту (`is_bmm` - с маркетинга - $1$, с менеджмента - $0$). Проинтерпретируйте итоговые показатели. Где больше парней? Во сколько раз?"
   ]
  },
  {
   "cell_type": "code",
   "execution_count": 235,
   "outputs": [
    {
     "data": {
      "text/plain": "<AxesSubplot:>"
     },
     "execution_count": 235,
     "metadata": {},
     "output_type": "execute_result"
    },
    {
     "data": {
      "text/plain": "<Figure size 432x288 with 1 Axes>",
      "image/png": "[encoded data removed]"
     },
     "metadata": {
      "needs_background": "light"
     },
     "output_type": "display_data"
    }
   ],
   "source": [
    "df['male_dummy'][df['is_bmm'] == True].hist()"
   ],
   "metadata": {
    "collapsed": false,
    "pycharm": {
     "name": "#%%\n"
    }
   }
  },
  {
   "cell_type": "code",
   "execution_count": 236,
   "outputs": [
    {
     "data": {
      "text/plain": "<AxesSubplot:>"
     },
     "execution_count": 236,
     "metadata": {},
     "output_type": "execute_result"
    },
    {
     "data": {
      "text/plain": "<Figure size 432x288 with 1 Axes>",
      "image/png": "[encoded data removed]"
     },
     "metadata": {
      "needs_background": "light"
     },
     "output_type": "display_data"
    }
   ],
   "source": [
    "df['male_dummy'][df['is_bmm'] == False].hist()"
   ],
   "metadata": {
    "collapsed": false,
    "pycharm": {
     "name": "#%%\n"
    }
   }
  },
  {
   "cell_type": "code",
   "execution_count": 237,
   "outputs": [
    {
     "data": {
      "text/plain": "2.9"
     },
     "execution_count": 237,
     "metadata": {},
     "output_type": "execute_result"
    }
   ],
   "source": [
    "len(df[(df.is_bmm == False) & (df.male_dummy == True)]) / len(df[(df.is_bmm == True) & (df.male_dummy == True)])"
   ],
   "metadata": {
    "collapsed": false,
    "pycharm": {
     "name": "#%%\n"
    }
   }
  },
  {
   "cell_type": "markdown",
   "source": [
    "Больше парней на менеджменте почти в 3 раза"
   ],
   "metadata": {
    "collapsed": false,
    "pycharm": {
     "name": "#%% md\n"
    }
   }
  },
  {
   "cell_type": "markdown",
   "metadata": {},
   "source": [
    "#### Задание 5 [2]\n",
    "\n",
    "Каждый студент добавляет к себе в друзья людей со своего потока. В переменной `friends_mail_from_course_pct` записана доля парней-друзей с потока (то, что переменная называется не `male` - опечатка).\n",
    "\n",
    "Постройте гистограмму для распределения доли парней в друзьях для девушек и для парней. Обе гистограммы постройте на одной картинке."
   ]
  },
  {
   "cell_type": "code",
   "source": [
    "from matplotlib import pyplot as plt"
   ],
   "metadata": {
    "collapsed": false,
    "pycharm": {
     "name": "#%%\n"
    }
   },
   "execution_count": 239,
   "outputs": []
  },
  {
   "cell_type": "code",
   "execution_count": 240,
   "metadata": {},
   "outputs": [
    {
     "data": {
      "text/plain": "Text(0.5, 1.0, 'Доля друзей парней у парней')"
     },
     "execution_count": 240,
     "metadata": {},
     "output_type": "execute_result"
    },
    {
     "data": {
      "text/plain": "<Figure size 432x288 with 1 Axes>",
      "image/png": "[encoded data removed]"
     },
     "metadata": {
      "needs_background": "light"
     },
     "output_type": "display_data"
    }
   ],
   "source": [
    "df['friends_mail_from_course_pct'][df.male_dummy == True].hist()\n",
    "plt.title('Доля друзей парней у парней')"
   ]
  },
  {
   "cell_type": "code",
   "execution_count": 241,
   "outputs": [
    {
     "data": {
      "text/plain": "Text(0.5, 1.0, 'Доля друзей парней у девушек')"
     },
     "execution_count": 241,
     "metadata": {},
     "output_type": "execute_result"
    },
    {
     "data": {
      "text/plain": "<Figure size 432x288 with 1 Axes>",
      "image/png": "[encoded data removed]"
     },
     "metadata": {
      "needs_background": "light"
     },
     "output_type": "display_data"
    }
   ],
   "source": [
    "df['friends_mail_from_course_pct'][df.male_dummy == False].hist()\n",
    "plt.title('Доля друзей парней у девушек')"
   ],
   "metadata": {
    "collapsed": false,
    "pycharm": {
     "name": "#%%\n"
    }
   }
  },
  {
   "cell_type": "markdown",
   "metadata": {},
   "source": [
    "Посчитайте для обеих групп среднее и дисперсию. Какие выводы вы можете сделать на основе посчитанных статистик?"
   ]
  },
  {
   "cell_type": "code",
   "execution_count": 242,
   "metadata": {},
   "outputs": [
    {
     "data": {
      "text/plain": "0.3915219303663434"
     },
     "execution_count": 242,
     "metadata": {},
     "output_type": "execute_result"
    }
   ],
   "source": [
    "df['friends_mail_from_course_pct'][df.male_dummy == False].mean()"
   ]
  },
  {
   "cell_type": "code",
   "execution_count": 243,
   "outputs": [
    {
     "data": {
      "text/plain": "0.019619921629458366"
     },
     "execution_count": 243,
     "metadata": {},
     "output_type": "execute_result"
    }
   ],
   "source": [
    "df['friends_mail_from_course_pct'][df.male_dummy == False].var()"
   ],
   "metadata": {
    "collapsed": false,
    "pycharm": {
     "name": "#%%\n"
    }
   }
  },
  {
   "cell_type": "code",
   "execution_count": 244,
   "outputs": [
    {
     "data": {
      "text/plain": "0.5230066008581026"
     },
     "execution_count": 244,
     "metadata": {},
     "output_type": "execute_result"
    }
   ],
   "source": [
    "df['friends_mail_from_course_pct'][df.male_dummy == True].mean()"
   ],
   "metadata": {
    "collapsed": false,
    "pycharm": {
     "name": "#%%\n"
    }
   }
  },
  {
   "cell_type": "code",
   "execution_count": 245,
   "outputs": [
    {
     "data": {
      "text/plain": "0.0234967542277464"
     },
     "execution_count": 245,
     "metadata": {},
     "output_type": "execute_result"
    }
   ],
   "source": [
    "df['friends_mail_from_course_pct'][df.male_dummy == True].var()"
   ],
   "metadata": {
    "collapsed": false,
    "pycharm": {
     "name": "#%%\n"
    }
   }
  },
  {
   "cell_type": "markdown",
   "source": [
    "Девочки в среднем больше дружат вк с девочками, мальчики в среднем добавляют в друзья примерно столько же девочек, сколько мальчиков"
   ],
   "metadata": {
    "collapsed": false,
    "pycharm": {
     "name": "#%% md\n"
    }
   }
  },
  {
   "cell_type": "markdown",
   "metadata": {},
   "source": [
    "#### Задание 6 [3]\n",
    "\n",
    "Давайте проанализируем колонку со средним кол-во фото в месяц (`photo_month_mean`)\n",
    "\n",
    "* Постройте на одной картинке гистограмы для распределения этого показателя по разным полам. \n",
    "* Правда ли, что типичная девушка выкладывает значительно больше фотографий, чем типичный мужчина? (подумайте какой именно показатель типичности нужно выбрать для сравнения и обоснуйте почему)\n",
    "* Для какого пола показатель оказывается более непредсказуемым? (подумайте как именно корректно эту непредсказуемость оценить, обычное стандартное отклонение явно не подходит)\n",
    "\n",
    "Не забывайте подгрузить пакет `matplotlib`!  Все свои рассуждения пишите прямо по ходу кода"
   ]
  },
  {
   "cell_type": "code",
   "execution_count": 246,
   "metadata": {},
   "outputs": [
    {
     "data": {
      "text/plain": "<Figure size 864x576 with 1 Axes>",
      "image/png": "[encoded data removed]"
     },
     "metadata": {
      "needs_background": "light"
     },
     "output_type": "display_data"
    }
   ],
   "source": [
    "boys_photo = df['photo_month_mean'][df.male_dummy == True]\n",
    "girls_photo = df['photo_month_mean'][df.male_dummy == False]\n",
    "colors = ['blue', 'pink']\n",
    "plt.rcParams[\"figure.figsize\"] = (12,8)\n",
    "plt.hist([boys_photo, girls_photo], color=colors, alpha=0.8, label=['мальчики', 'девочки'])\n",
    "plt.title(\"Среднее количество фото в месяц\")\n",
    "plt.legend()\n",
    "plt.show()"
   ]
  },
  {
   "cell_type": "code",
   "execution_count": 247,
   "outputs": [
    {
     "data": {
      "text/plain": "count    209.000000\nmean       4.453513\nstd       14.076101\nmin        1.000000\n25%        1.000000\n50%        1.750000\n75%        3.333333\nmax      151.833333\nName: photo_month_mean, dtype: float64"
     },
     "execution_count": 247,
     "metadata": {},
     "output_type": "execute_result"
    }
   ],
   "source": [
    "girls_photo.describe()"
   ],
   "metadata": {
    "collapsed": false,
    "pycharm": {
     "name": "#%%\n"
    }
   }
  },
  {
   "cell_type": "code",
   "execution_count": 248,
   "outputs": [
    {
     "data": {
      "text/plain": "count    167.000000\nmean       4.040629\nstd       11.327306\nmin        1.000000\n25%        1.000000\n50%        1.500000\n75%        2.683333\nmax      131.416667\nName: photo_month_mean, dtype: float64"
     },
     "execution_count": 248,
     "metadata": {},
     "output_type": "execute_result"
    }
   ],
   "source": [
    "boys_photo.describe()"
   ],
   "metadata": {
    "collapsed": false,
    "pycharm": {
     "name": "#%%\n"
    }
   }
  },
  {
   "cell_type": "markdown",
   "source": [
    "Типичность пользователя определим по медиане, в таком случае типичная девушка выкладывает примерно столько же фотографий, сколько типичный парень."
   ],
   "metadata": {
    "collapsed": false,
    "pycharm": {
     "name": "#%% md\n"
    }
   }
  },
  {
   "cell_type": "code",
   "execution_count": 249,
   "outputs": [
    {
     "data": {
      "text/plain": "<AxesSubplot:>"
     },
     "execution_count": 249,
     "metadata": {},
     "output_type": "execute_result"
    },
    {
     "data": {
      "text/plain": "<Figure size 864x576 with 1 Axes>",
      "image/png": "[encoded data removed]"
     },
     "metadata": {
      "needs_background": "light"
     },
     "output_type": "display_data"
    }
   ],
   "source": [
    "girls_photo.hist()"
   ],
   "metadata": {
    "collapsed": false,
    "pycharm": {
     "name": "#%%\n"
    }
   }
  },
  {
   "cell_type": "code",
   "execution_count": 250,
   "outputs": [
    {
     "data": {
      "text/plain": "<AxesSubplot:>"
     },
     "execution_count": 250,
     "metadata": {},
     "output_type": "execute_result"
    },
    {
     "data": {
      "text/plain": "<Figure size 864x576 with 1 Axes>",
      "image/png": "[encoded data removed]"
     },
     "metadata": {
      "needs_background": "light"
     },
     "output_type": "display_data"
    }
   ],
   "source": [
    "boys_photo.hist()"
   ],
   "metadata": {
    "collapsed": false,
    "pycharm": {
     "name": "#%%\n"
    }
   }
  },
  {
   "cell_type": "markdown",
   "metadata": {},
   "source": [
    "### Визуализация"
   ]
  },
  {
   "cell_type": "markdown",
   "metadata": {},
   "source": [
    "У всех нас есть датасет по контакту. В нём лежит информация про всех нас. Эту информацию надо как следует проанализировать. \n",
    "\n",
    "В большинстве заданий для получения баллов придётся не только завести код, но и написать свои мысли в поле Ответ. Сочинения надо писать прямо в текстовых ячейках, сразу после слова Ответ.\n",
    "\n",
    "Для начала подгрузите все необходимые библиотеки: math, numpy, pandas, matplotlib.pyplot, seaborn и включите опцию, отвечающую за прорисовку картинок прямо в тетрадке."
   ]
  },
  {
   "cell_type": "code",
   "execution_count": 251,
   "metadata": {},
   "outputs": [],
   "source": [
    "import math\n",
    "import numpy as np\n",
    "import pandas as pd\n",
    "\n",
    "import matplotlib.pyplot as plt\n",
    "import seaborn as sns\n",
    "%matplotlib inline"
   ]
  },
  {
   "cell_type": "markdown",
   "metadata": {},
   "source": [
    "Подгрузите данные профилей и данные по фотографиям"
   ]
  },
  {
   "cell_type": "code",
   "execution_count": 252,
   "metadata": {},
   "outputs": [],
   "source": [
    "# В этой табличке лежат данные по профилю человека\n",
    "df_profile = pd.read_csv('./vk_data_profile.csv',sep='\\t')\n",
    "\n",
    "# В этой табличке лежат данные по фотографиям человека\n",
    "df_photo = pd.read_csv('./vk_data_photo.csv',sep='\\t')"
   ]
  },
  {
   "cell_type": "markdown",
   "metadata": {},
   "source": [
    "Склеим табличку по полю uid"
   ]
  },
  {
   "cell_type": "code",
   "execution_count": 253,
   "metadata": {},
   "outputs": [
    {
     "data": {
      "text/plain": "   Unnamed: 0_x        uid  Unnamed: 0.1  first_name  last_name  is_closed  \\\n0             0  182152789             0  Александра   Абашкова      False   \n1             1  148020433             1   Анастасия  Чуфистова      False   \n2             2  138413935             2   Александр  Головачев      False   \n3             3  366261055             3        Анна   Лобанова      False   \n4             4  111252392             4     Алексей   Пузырный      False   \n\n     city home_town  male_dummy         relation_cat  ... photo_repost_cnt  \\\n0  Москва    Москва           0           не указано  ...              0.0   \n1  Рязань    Рязань           0           не указано  ...              2.0   \n2  Москва      Омск           1  не женат/не замужем  ...              0.0   \n3     NaN       NaN           0           не указано  ...              0.0   \n4     NaN       NaN           1                  NaN  ...              0.0   \n\n   photo_repost_max  photo_repost_mean  photo_repost_median  \\\n0               0.0           0.000000                  0.0   \n1               1.0           0.105263                  0.0   \n2               0.0           0.000000                  0.0   \n3               0.0           0.000000                  0.0   \n4               0.0           0.000000                  0.0   \n\n                                          photo_text  photo_text_len_cnt  \\\n0                                                                    0.0   \n1                                                                    0.0   \n2                                                                    0.0   \n3                                                                    0.0   \n4                                                                    0.0   \n\n   photo_yer_mean  vk_photo_ava_change_cnt  vk_photo_text_url_len_cnt  \\\n0        1.333333                      0.0                        0.0   \n1        3.166667                      0.0                        0.0   \n2        2.333333                      0.0                        0.0   \n3       12.500000                      0.0                        0.0   \n4        8.750000                      0.0                        0.0   \n\n   vk_photo_wall_ph_post_cnt  \n0                        0.0  \n1                        0.0  \n2                        0.0  \n3                        0.0  \n4                        0.0  \n\n[5 rows x 85 columns]",
      "text/html": "<div>\n<style scoped>\n    .dataframe tbody tr th:only-of-type {\n        vertical-align: middle;\n    }\n\n    .dataframe tbody tr th {\n        vertical-align: top;\n    }\n\n    .dataframe thead th {\n        text-align: right;\n    }\n</style>\n<table border=\"1\" class=\"dataframe\">\n  <thead>\n    <tr style=\"text-align: right;\">\n      <th></th>\n      <th>Unnamed: 0_x</th>\n      <th>uid</th>\n      <th>Unnamed: 0.1</th>\n      <th>first_name</th>\n      <th>last_name</th>\n      <th>is_closed</th>\n      <th>city</th>\n      <th>home_town</th>\n      <th>male_dummy</th>\n      <th>relation_cat</th>\n      <th>...</th>\n      <th>photo_repost_cnt</th>\n      <th>photo_repost_max</th>\n      <th>photo_repost_mean</th>\n      <th>photo_repost_median</th>\n      <th>photo_text</th>\n      <th>photo_text_len_cnt</th>\n      <th>photo_yer_mean</th>\n      <th>vk_photo_ava_change_cnt</th>\n      <th>vk_photo_text_url_len_cnt</th>\n      <th>vk_photo_wall_ph_post_cnt</th>\n    </tr>\n  </thead>\n  <tbody>\n    <tr>\n      <th>0</th>\n      <td>0</td>\n      <td>182152789</td>\n      <td>0</td>\n      <td>Александра</td>\n      <td>Абашкова</td>\n      <td>False</td>\n      <td>Москва</td>\n      <td>Москва</td>\n      <td>0</td>\n      <td>не указано</td>\n      <td>...</td>\n      <td>0.0</td>\n      <td>0.0</td>\n      <td>0.000000</td>\n      <td>0.0</td>\n      <td></td>\n      <td>0.0</td>\n      <td>1.333333</td>\n      <td>0.0</td>\n      <td>0.0</td>\n      <td>0.0</td>\n    </tr>\n    <tr>\n      <th>1</th>\n      <td>1</td>\n      <td>148020433</td>\n      <td>1</td>\n      <td>Анастасия</td>\n      <td>Чуфистова</td>\n      <td>False</td>\n      <td>Рязань</td>\n      <td>Рязань</td>\n      <td>0</td>\n      <td>не указано</td>\n      <td>...</td>\n      <td>2.0</td>\n      <td>1.0</td>\n      <td>0.105263</td>\n      <td>0.0</td>\n      <td></td>\n      <td>0.0</td>\n      <td>3.166667</td>\n      <td>0.0</td>\n      <td>0.0</td>\n      <td>0.0</td>\n    </tr>\n    <tr>\n      <th>2</th>\n      <td>2</td>\n      <td>138413935</td>\n      <td>2</td>\n      <td>Александр</td>\n      <td>Головачев</td>\n      <td>False</td>\n      <td>Москва</td>\n      <td>Омск</td>\n      <td>1</td>\n      <td>не женат/не замужем</td>\n      <td>...</td>\n      <td>0.0</td>\n      <td>0.0</td>\n      <td>0.000000</td>\n      <td>0.0</td>\n      <td></td>\n      <td>0.0</td>\n      <td>2.333333</td>\n      <td>0.0</td>\n      <td>0.0</td>\n      <td>0.0</td>\n    </tr>\n    <tr>\n      <th>3</th>\n      <td>3</td>\n      <td>366261055</td>\n      <td>3</td>\n      <td>Анна</td>\n      <td>Лобанова</td>\n      <td>False</td>\n      <td>NaN</td>\n      <td>NaN</td>\n      <td>0</td>\n      <td>не указано</td>\n      <td>...</td>\n      <td>0.0</td>\n      <td>0.0</td>\n      <td>0.000000</td>\n      <td>0.0</td>\n      <td></td>\n      <td>0.0</td>\n      <td>12.500000</td>\n      <td>0.0</td>\n      <td>0.0</td>\n      <td>0.0</td>\n    </tr>\n    <tr>\n      <th>4</th>\n      <td>4</td>\n      <td>111252392</td>\n      <td>4</td>\n      <td>Алексей</td>\n      <td>Пузырный</td>\n      <td>False</td>\n      <td>NaN</td>\n      <td>NaN</td>\n      <td>1</td>\n      <td>NaN</td>\n      <td>...</td>\n      <td>0.0</td>\n      <td>0.0</td>\n      <td>0.000000</td>\n      <td>0.0</td>\n      <td></td>\n      <td>0.0</td>\n      <td>8.750000</td>\n      <td>0.0</td>\n      <td>0.0</td>\n      <td>0.0</td>\n    </tr>\n  </tbody>\n</table>\n<p>5 rows × 85 columns</p>\n</div>"
     },
     "execution_count": 253,
     "metadata": {},
     "output_type": "execute_result"
    }
   ],
   "source": [
    "df = pd.merge(df_profile, df_photo, how='right', on='uid')\n",
    "df.head()"
   ]
  },
  {
   "cell_type": "markdown",
   "metadata": {},
   "source": [
    "Давайте посмотрим на все названия колонок, которые есть в таблице."
   ]
  },
  {
   "cell_type": "code",
   "execution_count": 254,
   "metadata": {},
   "outputs": [
    {
     "data": {
      "text/plain": "Index(['Unnamed: 0_x', 'uid', 'Unnamed: 0.1', 'first_name', 'last_name',\n       'is_closed', 'city', 'home_town', 'male_dummy', 'relation_cat',\n       'relation_partner', 'byear', 'bmonth', 'bday', 'country',\n       'facebook_dummy', 'instagram_dummy', 'skype_dummy', 'twitter_dummy',\n       'home_phone_dummy', 'mobile_phone_dummy', 'site_dummy', 'folowers_cnt',\n       'university_str', 'faculty_str', 'about_str', 'activities_str',\n       'books_str', 'interests_str', 'movies_str', 'music_str', 'quotes_str',\n       'tv_str', 'games_str', 'can_post_dummy', 'can_see_all_posts_dummy',\n       'can_see_audio_dummy', 'can_write_private_message_dummy',\n       'has_mobile_dummy', 'has_ava_dummy', 'wall_comments_dummy',\n       'albums_cnt', 'audio_cnt', 'followers_cnt', 'friends_cnt', 'gifts_cnt',\n       'groups_cnt', 'mutual_friends_cnt', 'photos_cnt', 'subscriptions_cnt',\n       'user_photos_cnt', 'videos_cnt', 'pages_cnt', 'alco_love_cat',\n       'smoke_love_cat', 'religion_str', 'inspired_by_str', 'life_main_cat',\n       'people_main_cat', 'political_cat', 'lang_cnt', 'english_dummy',\n       'change_city_school_cnt', 'last_bukva_class_str', 'schools_cnt',\n       'is_bmm', 'in_hse_memes_group', 'likes_memes', 'Unnamed: 0_y',\n       'photo_cnt', 'photo_like_cnt', 'photo_like_max', 'photo_like_mean',\n       'photo_like_median', 'photo_month_mean', 'photo_repost_cnt',\n       'photo_repost_max', 'photo_repost_mean', 'photo_repost_median',\n       'photo_text', 'photo_text_len_cnt', 'photo_yer_mean',\n       'vk_photo_ava_change_cnt', 'vk_photo_text_url_len_cnt',\n       'vk_photo_wall_ph_post_cnt'],\n      dtype='object')"
     },
     "execution_count": 254,
     "metadata": {},
     "output_type": "execute_result"
    }
   ],
   "source": [
    "df.columns"
   ]
  },
  {
   "cell_type": "markdown",
   "metadata": {},
   "source": [
    "Мы видим, что часть из них кончается на `cnt`. Это колонки-счётчики. В них лежат такие переменные как количество фоток, лайков, репостов и тд"
   ]
  },
  {
   "cell_type": "code",
   "execution_count": 255,
   "metadata": {},
   "outputs": [
    {
     "data": {
      "text/plain": "['folowers_cnt',\n 'albums_cnt',\n 'audio_cnt',\n 'followers_cnt',\n 'friends_cnt',\n 'gifts_cnt',\n 'groups_cnt',\n 'mutual_friends_cnt',\n 'photos_cnt',\n 'subscriptions_cnt',\n 'user_photos_cnt',\n 'videos_cnt',\n 'pages_cnt',\n 'lang_cnt',\n 'change_city_school_cnt',\n 'schools_cnt',\n 'photo_cnt',\n 'photo_like_cnt',\n 'photo_repost_cnt',\n 'photo_text_len_cnt',\n 'vk_photo_ava_change_cnt',\n 'vk_photo_text_url_len_cnt',\n 'vk_photo_wall_ph_post_cnt']"
     },
     "execution_count": 255,
     "metadata": {},
     "output_type": "execute_result"
    }
   ],
   "source": [
    "variables_cnt = [item for item in df.columns if item[-3:] == 'cnt']\n",
    "variables_cnt"
   ]
  },
  {
   "cell_type": "markdown",
   "metadata": {},
   "source": [
    "Разбиритесь как работает и устроен этот цикл, если вы ещё не разбираетесь. Почитать об этом можно [вот тут.](https://habr.com/ru/post/30232/) Чуть ниже вам предстоит написать свой такой. \n",
    "\n",
    "#### Задание 7 [2]\n",
    "\n",
    "Вытащите из переменных счётчиков только те, которые отвечают за фото.__ Постройте для них гистограммы (для удобства используйте логарифмическое скалирование). Как думаете, в каких переменных есть выбросы? Какие из переменных неинформативны? Почему?\n",
    "\n",
    "\n",
    "__Ответ:__"
   ]
  },
  {
   "cell_type": "code",
   "execution_count": 256,
   "metadata": {},
   "outputs": [],
   "source": [
    "photos_var_cnt = [item for item in variables_cnt if 'photo' in item]  # сохраните нужные названия столбцов сюда"
   ]
  },
  {
   "cell_type": "code",
   "execution_count": 257,
   "outputs": [
    {
     "data": {
      "text/plain": "['photos_cnt',\n 'user_photos_cnt',\n 'photo_cnt',\n 'photo_like_cnt',\n 'photo_repost_cnt',\n 'photo_text_len_cnt',\n 'vk_photo_ava_change_cnt',\n 'vk_photo_text_url_len_cnt',\n 'vk_photo_wall_ph_post_cnt']"
     },
     "execution_count": 257,
     "metadata": {},
     "output_type": "execute_result"
    }
   ],
   "source": [
    "photos_var_cnt"
   ],
   "metadata": {
    "collapsed": false,
    "pycharm": {
     "name": "#%%\n"
    }
   }
  },
  {
   "cell_type": "code",
   "execution_count": 258,
   "metadata": {},
   "outputs": [],
   "source": [
    "# примерно такая картинка должна получиться"
   ]
  },
  {
   "cell_type": "code",
   "execution_count": 259,
   "outputs": [],
   "source": [
    "df[photos_var_cnt] = np.log(df[photos_var_cnt]+1)"
   ],
   "metadata": {
    "collapsed": false,
    "pycharm": {
     "name": "#%%\n"
    }
   }
  },
  {
   "cell_type": "code",
   "source": [
    "df[photos_var_cnt].hist(figsize=(15,12))\n"
   ],
   "metadata": {
    "collapsed": false,
    "pycharm": {
     "name": "#%%\n"
    }
   },
   "execution_count": 260,
   "outputs": [
    {
     "data": {
      "text/plain": "array([[<AxesSubplot:title={'center':'photos_cnt'}>,\n        <AxesSubplot:title={'center':'user_photos_cnt'}>,\n        <AxesSubplot:title={'center':'photo_cnt'}>],\n       [<AxesSubplot:title={'center':'photo_like_cnt'}>,\n        <AxesSubplot:title={'center':'photo_repost_cnt'}>,\n        <AxesSubplot:title={'center':'photo_text_len_cnt'}>],\n       [<AxesSubplot:title={'center':'vk_photo_ava_change_cnt'}>,\n        <AxesSubplot:title={'center':'vk_photo_text_url_len_cnt'}>,\n        <AxesSubplot:title={'center':'vk_photo_wall_ph_post_cnt'}>]],\n      dtype=object)"
     },
     "execution_count": 260,
     "metadata": {},
     "output_type": "execute_result"
    },
    {
     "data": {
      "text/plain": "<Figure size 1080x864 with 9 Axes>",
      "image/png": "[encoded data removed]"
     },
     "metadata": {
      "needs_background": "light"
     },
     "output_type": "display_data"
    }
   ]
  },
  {
   "cell_type": "markdown",
   "metadata": {},
   "source": [
    "#### Задание 8 [2]\n",
    "\n",
    "Кто больше постит фотографий, девушки или парни? чьи фото собирают больше лайков? (общее количество лайков, медиана и среднее)\n",
    "\n",
    "Вы уже до этого искали ответы на подобные вопросы. Тут от вас требуется построить картинку, на которй будет чётко видно что происходит с женщинами, а что с мужчинами (своя гистограмма для каждой фичи раскрашенная по мужчинам и женщинам). Попробуйте построить все $4$ картинки в рамках одной с помощью `axis`."
   ]
  },
  {
   "cell_type": "code",
   "execution_count": 261,
   "metadata": {},
   "outputs": [],
   "source": [
    "# примерно такая картинка должна получиться"
   ]
  },
  {
   "cell_type": "code",
   "execution_count": 262,
   "outputs": [
    {
     "data": {
      "text/plain": "<Figure size 864x576 with 1 Axes>",
      "image/png": "[encoded data removed]"
     },
     "metadata": {
      "needs_background": "light"
     },
     "output_type": "display_data"
    }
   ],
   "source": [
    "boys_photo = df['photo_month_mean'][df.male_dummy == True]\n",
    "girls_photo = df['photo_month_mean'][df.male_dummy == False]\n",
    "colors = ['blue', 'pink']\n",
    "plt.rcParams[\"figure.figsize\"] = (12,8)\n",
    "plt.hist([boys_photo, girls_photo], color=colors, alpha=0.8, label=['мальчики', 'девочки'])\n",
    "plt.title(\"Среднее количество фото в месяц\")\n",
    "plt.legend()\n",
    "plt.show()"
   ],
   "metadata": {
    "collapsed": false,
    "pycharm": {
     "name": "#%%\n"
    }
   }
  },
  {
   "cell_type": "markdown",
   "metadata": {},
   "source": [
    "Давайте добавим к нашим переменным (описывающим фотографии) количество друзей, количество подарков и пол"
   ]
  },
  {
   "cell_type": "code",
   "execution_count": 263,
   "metadata": {},
   "outputs": [],
   "source": [
    "vars_interesting = photos_var_cnt + ['male_dummy', 'friends_cnt', 'gifts_cnt']"
   ]
  },
  {
   "cell_type": "code",
   "execution_count": 264,
   "metadata": {},
   "outputs": [
    {
     "data": {
      "text/plain": "   photos_cnt  user_photos_cnt  photo_cnt  photo_like_cnt  photo_repost_cnt  \\\n0    1.609438              NaN   1.609438        5.736572          0.000000   \n1    2.995732              NaN   2.995732        7.970740          1.098612   \n2    2.079442              NaN   2.079442        7.786136          0.000000   \n3    3.931826              NaN   3.931826        7.178545          0.000000   \n4    3.583519              NaN   3.583519        7.226936          0.000000   \n\n   photo_text_len_cnt  vk_photo_ava_change_cnt  vk_photo_text_url_len_cnt  \\\n0                 0.0                      0.0                        0.0   \n1                 0.0                      0.0                        0.0   \n2                 0.0                      0.0                        0.0   \n3                 0.0                      0.0                        0.0   \n4                 0.0                      0.0                        0.0   \n\n   vk_photo_wall_ph_post_cnt  male_dummy  friends_cnt  gifts_cnt  \n0                        0.0           0        298.0        NaN  \n1                        0.0           0        408.0      203.0  \n2                        0.0           1       2969.0        NaN  \n3                        0.0           0        214.0       24.0  \n4                        0.0           1        336.0      227.0  ",
      "text/html": "<div>\n<style scoped>\n    .dataframe tbody tr th:only-of-type {\n        vertical-align: middle;\n    }\n\n    .dataframe tbody tr th {\n        vertical-align: top;\n    }\n\n    .dataframe thead th {\n        text-align: right;\n    }\n</style>\n<table border=\"1\" class=\"dataframe\">\n  <thead>\n    <tr style=\"text-align: right;\">\n      <th></th>\n      <th>photos_cnt</th>\n      <th>user_photos_cnt</th>\n      <th>photo_cnt</th>\n      <th>photo_like_cnt</th>\n      <th>photo_repost_cnt</th>\n      <th>photo_text_len_cnt</th>\n      <th>vk_photo_ava_change_cnt</th>\n      <th>vk_photo_text_url_len_cnt</th>\n      <th>vk_photo_wall_ph_post_cnt</th>\n      <th>male_dummy</th>\n      <th>friends_cnt</th>\n      <th>gifts_cnt</th>\n    </tr>\n  </thead>\n  <tbody>\n    <tr>\n      <th>0</th>\n      <td>1.609438</td>\n      <td>NaN</td>\n      <td>1.609438</td>\n      <td>5.736572</td>\n      <td>0.000000</td>\n      <td>0.0</td>\n      <td>0.0</td>\n      <td>0.0</td>\n      <td>0.0</td>\n      <td>0</td>\n      <td>298.0</td>\n      <td>NaN</td>\n    </tr>\n    <tr>\n      <th>1</th>\n      <td>2.995732</td>\n      <td>NaN</td>\n      <td>2.995732</td>\n      <td>7.970740</td>\n      <td>1.098612</td>\n      <td>0.0</td>\n      <td>0.0</td>\n      <td>0.0</td>\n      <td>0.0</td>\n      <td>0</td>\n      <td>408.0</td>\n      <td>203.0</td>\n    </tr>\n    <tr>\n      <th>2</th>\n      <td>2.079442</td>\n      <td>NaN</td>\n      <td>2.079442</td>\n      <td>7.786136</td>\n      <td>0.000000</td>\n      <td>0.0</td>\n      <td>0.0</td>\n      <td>0.0</td>\n      <td>0.0</td>\n      <td>1</td>\n      <td>2969.0</td>\n      <td>NaN</td>\n    </tr>\n    <tr>\n      <th>3</th>\n      <td>3.931826</td>\n      <td>NaN</td>\n      <td>3.931826</td>\n      <td>7.178545</td>\n      <td>0.000000</td>\n      <td>0.0</td>\n      <td>0.0</td>\n      <td>0.0</td>\n      <td>0.0</td>\n      <td>0</td>\n      <td>214.0</td>\n      <td>24.0</td>\n    </tr>\n    <tr>\n      <th>4</th>\n      <td>3.583519</td>\n      <td>NaN</td>\n      <td>3.583519</td>\n      <td>7.226936</td>\n      <td>0.000000</td>\n      <td>0.0</td>\n      <td>0.0</td>\n      <td>0.0</td>\n      <td>0.0</td>\n      <td>1</td>\n      <td>336.0</td>\n      <td>227.0</td>\n    </tr>\n  </tbody>\n</table>\n</div>"
     },
     "execution_count": 264,
     "metadata": {},
     "output_type": "execute_result"
    }
   ],
   "source": [
    "df[vars_interesting].head()"
   ]
  },
  {
   "cell_type": "markdown",
   "metadata": {},
   "source": [
    "#### Задание 9 [2]\n",
    "\n",
    "Визуализируйте вытащенные признаки попарно. Постройте `pairplot` для всех пар. На диагонали расположите оценки плотностей для признаков. Для этого используйте опцию `diag_kind = 'kde'`. С помощью параметра `hue` разбейте все наблюдения на мужские и женские, чтобы они отражались на картинках разными цветами."
   ]
  },
  {
   "cell_type": "code",
   "execution_count": 264,
   "metadata": {},
   "outputs": [],
   "source": []
  },
  {
   "cell_type": "markdown",
   "metadata": {},
   "source": [
    "Давайте для удобства визуализации прологарифмуем наш датасет (предварительно заполнив пропуски нулями или выкинув их)"
   ]
  },
  {
   "cell_type": "code",
   "execution_count": 265,
   "metadata": {},
   "outputs": [],
   "source": [
    "df_na_zero = df[vars_interesting].fillna(0)\n",
    "\n",
    "for column in df_na_zero.columns:\n",
    "    if column == 'male_dummy':\n",
    "        continue\n",
    "    df_na_zero[column] = df_na_zero[column].map(lambda x: math.log(1 + x))\n",
    "    \n",
    "\n",
    "# постройте pairplot для датасета df_na_zero"
   ]
  },
  {
   "cell_type": "markdown",
   "metadata": {},
   "source": [
    "#### Задание 10 [1]\n",
    "\n",
    "Сделайте датасет df_na_drop. Для этого проделайте всё то же самое, что выше, но вместо того, чтобы заполнять пропуски нулями - выбросите их."
   ]
  },
  {
   "cell_type": "code",
   "execution_count": 266,
   "metadata": {},
   "outputs": [],
   "source": [
    "# создание датасета для df_na_drop\n",
    "    \n",
    "# постройте pairplot для датасета df_na_drop"
   ]
  },
  {
   "cell_type": "markdown",
   "metadata": {},
   "source": [
    "#### Задание 11 [3]\n",
    "\n",
    "Дайте ответы на следущие вопросы. Свои мысли пишите прямо здесь! \n",
    "\n",
    "* Между какими признаками скорее всего есть линейная зависимость? Почему вы так решили? \n",
    "\n",
    "__Ответ:__   \n",
    "\n",
    "* Eсть ли тут нелинейные зависимости?\n",
    "\n",
    "__Ответ:__   \n",
    "\n",
    "* Есть ли объекты-выбросы, которые наблюдаются далеко от сгустков из точек. \n",
    "\n",
    "__Ответ:__  \n",
    "\n",
    "* Какие ещё интересные особенности вы видите на картинке?\n",
    "\n",
    "__Ответ:__  \n",
    "\n"
   ]
  },
  {
   "cell_type": "markdown",
   "metadata": {},
   "source": [
    "#### Задание 12 [2]\n",
    "\n",
    "Отлично! Половина домашки осталась позади. Давайте теперь для тех же самых признаков построим матрицу корреляций и провизуализируем её с помощью `heatmap`."
   ]
  },
  {
   "cell_type": "code",
   "execution_count": 267,
   "metadata": {},
   "outputs": [],
   "source": [
    "# Тут нужна картинка для датасета df[vars_interesting]"
   ]
  },
  {
   "cell_type": "code",
   "execution_count": 268,
   "metadata": {},
   "outputs": [],
   "source": [
    "# примерно такая картинка должна получиться"
   ]
  },
  {
   "cell_type": "code",
   "execution_count": 269,
   "metadata": {},
   "outputs": [],
   "source": [
    "# Тут нужна картинка для датасета df_na_zero[vars_interesting]"
   ]
  },
  {
   "cell_type": "code",
   "execution_count": 270,
   "metadata": {},
   "outputs": [],
   "source": [
    "# Тут нужна картинка для датасета df_na_drop[vars_interesting]"
   ]
  },
  {
   "cell_type": "markdown",
   "metadata": {},
   "source": [
    "#### Задание 13 [2]\n",
    "\n",
    "Насколько сильно корреляционные матрицы различаются между собой? Почему? \n",
    "\n",
    "__Ответ:__"
   ]
  },
  {
   "cell_type": "markdown",
   "metadata": {},
   "source": [
    "#### Задание 14 [2]\n",
    "\n",
    "Между какими переменными корреляция самая высокая? Почему? Она отрицательная или положительная. Прокомментируйте все клетки, где она оказалась $\\ge 0.3$ либо $\\le -0.2$. \n",
    "\n",
    "__Ответ:__ "
   ]
  },
  {
   "cell_type": "code",
   "execution_count": 270,
   "metadata": {},
   "outputs": [],
   "source": []
  },
  {
   "cell_type": "markdown",
   "metadata": {},
   "source": [
    "#### Задание 15 [2]\n",
    "\n",
    "Дамми-переменная это переменная, которая принимает два значения. Либо $1$, если человек обладает закодированным в ней свойством, либо $0$, если не обладает. В нашей таблице все дамми-переменные оканчиваются на суффикc `dummy`.  \n",
    "\n",
    "Возьмите переменную `instagram_dummy`. Она принимает значение $1$, если у пользователя на страничке есть ссылка на инстаграм. Возьмите переменную `male_dummy`. Она примает значение $1$, если пользователь парень. Постройте картинку, на которой будет видно как между собой соотносятся владельцы инстаграмма по полу. "
   ]
  },
  {
   "cell_type": "code",
   "execution_count": 271,
   "metadata": {},
   "outputs": [],
   "source": [
    "# примерно такая картинка должна получиться"
   ]
  },
  {
   "cell_type": "markdown",
   "metadata": {},
   "source": [
    "Правда ли, что девушки чаще указыают наличие инстаграмма на своей страничке?\n",
    "\n",
    "__Ответ:__   "
   ]
  },
  {
   "cell_type": "markdown",
   "metadata": {},
   "source": [
    "#### Задание 16 [1]\n",
    "\n",
    "Категориальная переменная обычно принимает значения из какого-то фиксированного множества. Например, переменная `political_cat` описывает к какой категории относятся политические взгляды юзера. Постройте для этой переменной столбиковую диаграмму. Разбиритесь по [документации](http://seaborn.pydata.org/generated/seaborn.countplot.html#seaborn.countplot) как сделать у столбиков горизонтальное расположение. Можно ли сделать исходя из картинки вывод, что в вышке одни либералы? Почему? \n",
    "\n",
    "__Ответ:__  "
   ]
  },
  {
   "cell_type": "code",
   "execution_count": 272,
   "metadata": {},
   "outputs": [],
   "source": [
    "# примерно такая картинка должна получиться"
   ]
  },
  {
   "cell_type": "markdown",
   "metadata": {},
   "source": [
    "#### Задание 17 [1]\n",
    "\n",
    "Как политические взгляды распределены по полам?  Постройте для этого также столбиковую диаграмму, на которой каждый стобик будет разбит на два цвета: мужчины и женщины. \n",
    "\n",
    "__Ответ:__  "
   ]
  },
  {
   "cell_type": "code",
   "execution_count": 273,
   "metadata": {},
   "outputs": [],
   "source": [
    "# примерно такая картинка должна получиться"
   ]
  },
  {
   "cell_type": "markdown",
   "metadata": {},
   "source": [
    "#### Задание 18 [2]\n",
    "\n",
    "Есть ли связь между неграмотностью и рождаемостью? Для 94 стран, уровень неграмотности женщин в которых больше 5%, известны доля неграмотных среди женщин старше 15 (на 2003 год) и средняя рождаемость на одну женщину (на 2005 год).\n",
    "\n",
    "illiteracy.txt - датасет\n",
    "\n",
    "Чему равен выборочный коэффициент корреляции Пирсона между этими двумя признаками? Округлите до четырёх знаков после десятичной точки."
   ]
  },
  {
   "cell_type": "code",
   "execution_count": 273,
   "metadata": {},
   "outputs": [],
   "source": []
  },
  {
   "cell_type": "markdown",
   "metadata": {},
   "source": [
    "Чему равен выборочный коэффициент корреляции Спирмена признаков из предыдущего вопроса? Округлите до четырёх знаков после десятичной точки."
   ]
  },
  {
   "cell_type": "code",
   "execution_count": 273,
   "metadata": {},
   "outputs": [],
   "source": []
  }
 ],
 "metadata": {
  "hide_input": false,
  "kernelspec": {
   "display_name": "Python 3",
   "language": "python",
   "name": "python3"
  },
  "language_info": {
   "codemirror_mode": {
    "name": "ipython",
    "version": 3
   },
   "file_extension": ".py",
   "mimetype": "text/x-python",
   "name": "python",
   "nbconvert_exporter": "python",
   "pygments_lexer": "ipython3",
   "version": "3.6.10"
  },
  "toc": {
   "base_numbering": 1,
   "nav_menu": {},
   "number_sections": true,
   "sideBar": true,
   "skip_h1_title": false,
   "title_cell": "Table of Contents",
   "title_sidebar": "Contents",
   "toc_cell": false,
   "toc_position": {},
   "toc_section_display": true,
   "toc_window_display": false
  }
 },
 "nbformat": 4,
 "nbformat_minor": 4
}